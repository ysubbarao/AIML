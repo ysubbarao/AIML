{
 "cells": [
  {
   "cell_type": "code",
   "execution_count": 197,
   "metadata": {},
   "outputs": [],
   "source": [
    "import numpy as np\n",
    "import pandas as pd\n",
    "import matplotlib.pyplot as plt"
   ]
  },
  {
   "cell_type": "code",
   "execution_count": 198,
   "metadata": {},
   "outputs": [],
   "source": [
    "original = pd.read_csv('Students_Data.csv')"
   ]
  },
  {
   "cell_type": "code",
   "execution_count": 199,
   "metadata": {},
   "outputs": [],
   "source": [
    "original = original.drop([480], axis=0)"
   ]
  },
  {
   "cell_type": "code",
   "execution_count": 200,
   "metadata": {},
   "outputs": [],
   "source": [
    "original.RAISEDHANDS = original.RAISEDHANDS*4\n",
    "original.RAISEDHANDS = (original.RAISEDHANDS/original.RAISEDHANDS.max())*100"
   ]
  },
  {
   "cell_type": "code",
   "execution_count": 201,
   "metadata": {},
   "outputs": [],
   "source": [
    "original.VISITEDRESOURCES = original.VISITEDRESOURCES*4\n",
    "original.VISITEDRESOURCES = (original.VISITEDRESOURCES/original.VISITEDRESOURCES.max())*100"
   ]
  },
  {
   "cell_type": "code",
   "execution_count": 202,
   "metadata": {},
   "outputs": [],
   "source": [
    "original.ANNOUNCEMENTSVIEW = original.ANNOUNCEMENTSVIEW*4\n",
    "original.ANNOUNCEMENTSVIEW = (original.ANNOUNCEMENTSVIEW/original.ANNOUNCEMENTSVIEW.max())*100"
   ]
  },
  {
   "cell_type": "code",
   "execution_count": 203,
   "metadata": {},
   "outputs": [],
   "source": [
    "original.DISCUSSION = original.DISCUSSION*4\n",
    "original.DISCUSSION = (original.DISCUSSION/original.DISCUSSION.max())*100"
   ]
  },
  {
   "cell_type": "code",
   "execution_count": 204,
   "metadata": {},
   "outputs": [],
   "source": [
    "CLASS = original.CLASS.value_counts().rename_axis('CLASs').reset_index()"
   ]
  },
  {
   "cell_type": "code",
   "execution_count": 205,
   "metadata": {},
   "outputs": [],
   "source": [
    "CLASS.columns = ['CLASS','COUNT']"
   ]
  },
  {
   "cell_type": "code",
   "execution_count": 206,
   "metadata": {},
   "outputs": [
    {
     "data": {
      "text/html": [
       "<div>\n",
       "<style scoped>\n",
       "    .dataframe tbody tr th:only-of-type {\n",
       "        vertical-align: middle;\n",
       "    }\n",
       "\n",
       "    .dataframe tbody tr th {\n",
       "        vertical-align: top;\n",
       "    }\n",
       "\n",
       "    .dataframe thead th {\n",
       "        text-align: right;\n",
       "    }\n",
       "</style>\n",
       "<table border=\"1\" class=\"dataframe\">\n",
       "  <thead>\n",
       "    <tr style=\"text-align: right;\">\n",
       "      <th></th>\n",
       "      <th>CLASS</th>\n",
       "      <th>COUNT</th>\n",
       "    </tr>\n",
       "  </thead>\n",
       "  <tbody>\n",
       "    <tr>\n",
       "      <th>0</th>\n",
       "      <td>M</td>\n",
       "      <td>211</td>\n",
       "    </tr>\n",
       "    <tr>\n",
       "      <th>1</th>\n",
       "      <td>H</td>\n",
       "      <td>142</td>\n",
       "    </tr>\n",
       "    <tr>\n",
       "      <th>2</th>\n",
       "      <td>L</td>\n",
       "      <td>127</td>\n",
       "    </tr>\n",
       "  </tbody>\n",
       "</table>\n",
       "</div>"
      ],
      "text/plain": [
       "  CLASS  COUNT\n",
       "0     M    211\n",
       "1     H    142\n",
       "2     L    127"
      ]
     },
     "execution_count": 206,
     "metadata": {},
     "output_type": "execute_result"
    }
   ],
   "source": [
    "CLASS"
   ]
  },
  {
   "cell_type": "code",
   "execution_count": 207,
   "metadata": {},
   "outputs": [
    {
     "data": {
      "text/plain": [
       "([<matplotlib.patches.Wedge at 0x2b2ebc12240>,\n",
       "  <matplotlib.patches.Wedge at 0x2b2ebc12748>,\n",
       "  <matplotlib.patches.Wedge at 0x2b2ebc12c18>],\n",
       " [Text(0.207533667897868, 1.0802452391419541, 'M'),\n",
       "  Text(-0.9379042130765984, -0.5747483684997868, 'H'),\n",
       "  Text(0.7413780059649205, -0.8126245456983676, 'L')])"
      ]
     },
     "execution_count": 207,
     "metadata": {},
     "output_type": "execute_result"
    },
    {
     "data": {
      "image/png": "[encoded data removed]",
      "text/plain": [
       "<Figure size 432x288 with 1 Axes>"
      ]
     },
     "metadata": {},
     "output_type": "display_data"
    }
   ],
   "source": [
    "plt.pie(CLASS.COUNT,labels = CLASS.CLASS)"
   ]
  },
  {
   "cell_type": "code",
   "execution_count": 208,
   "metadata": {},
   "outputs": [],
   "source": [
    "country = original.NATIONALITY.value_counts().rename_axis('COUNTRY').reset_index()"
   ]
  },
  {
   "cell_type": "code",
   "execution_count": 209,
   "metadata": {},
   "outputs": [],
   "source": [
    "country.columns = ['COUNTRY','COUNT']"
   ]
  },
  {
   "cell_type": "code",
   "execution_count": 210,
   "metadata": {},
   "outputs": [
    {
     "data": {
      "text/html": [
       "<div>\n",
       "<style scoped>\n",
       "    .dataframe tbody tr th:only-of-type {\n",
       "        vertical-align: middle;\n",
       "    }\n",
       "\n",
       "    .dataframe tbody tr th {\n",
       "        vertical-align: top;\n",
       "    }\n",
       "\n",
       "    .dataframe thead th {\n",
       "        text-align: right;\n",
       "    }\n",
       "</style>\n",
       "<table border=\"1\" class=\"dataframe\">\n",
       "  <thead>\n",
       "    <tr style=\"text-align: right;\">\n",
       "      <th></th>\n",
       "      <th>COUNTRY</th>\n",
       "      <th>COUNT</th>\n",
       "    </tr>\n",
       "  </thead>\n",
       "  <tbody>\n",
       "    <tr>\n",
       "      <th>0</th>\n",
       "      <td>KW</td>\n",
       "      <td>179</td>\n",
       "    </tr>\n",
       "    <tr>\n",
       "      <th>1</th>\n",
       "      <td>JORDAN</td>\n",
       "      <td>172</td>\n",
       "    </tr>\n",
       "    <tr>\n",
       "      <th>2</th>\n",
       "      <td>PALESTINE</td>\n",
       "      <td>28</td>\n",
       "    </tr>\n",
       "    <tr>\n",
       "      <th>3</th>\n",
       "      <td>IRAQ</td>\n",
       "      <td>22</td>\n",
       "    </tr>\n",
       "    <tr>\n",
       "      <th>4</th>\n",
       "      <td>LEBANON</td>\n",
       "      <td>17</td>\n",
       "    </tr>\n",
       "    <tr>\n",
       "      <th>5</th>\n",
       "      <td>TUNIS</td>\n",
       "      <td>12</td>\n",
       "    </tr>\n",
       "    <tr>\n",
       "      <th>6</th>\n",
       "      <td>SAUDIARABIA</td>\n",
       "      <td>11</td>\n",
       "    </tr>\n",
       "    <tr>\n",
       "      <th>7</th>\n",
       "      <td>EGYPT</td>\n",
       "      <td>9</td>\n",
       "    </tr>\n",
       "    <tr>\n",
       "      <th>8</th>\n",
       "      <td>SYRIA</td>\n",
       "      <td>7</td>\n",
       "    </tr>\n",
       "    <tr>\n",
       "      <th>9</th>\n",
       "      <td>IRAN</td>\n",
       "      <td>6</td>\n",
       "    </tr>\n",
       "    <tr>\n",
       "      <th>10</th>\n",
       "      <td>USA</td>\n",
       "      <td>6</td>\n",
       "    </tr>\n",
       "    <tr>\n",
       "      <th>11</th>\n",
       "      <td>LYBIA</td>\n",
       "      <td>6</td>\n",
       "    </tr>\n",
       "    <tr>\n",
       "      <th>12</th>\n",
       "      <td>MOROCCO</td>\n",
       "      <td>4</td>\n",
       "    </tr>\n",
       "    <tr>\n",
       "      <th>13</th>\n",
       "      <td>VENZUELA</td>\n",
       "      <td>1</td>\n",
       "    </tr>\n",
       "  </tbody>\n",
       "</table>\n",
       "</div>"
      ],
      "text/plain": [
       "        COUNTRY  COUNT\n",
       "0            KW    179\n",
       "1        JORDAN    172\n",
       "2     PALESTINE     28\n",
       "3          IRAQ     22\n",
       "4       LEBANON     17\n",
       "5         TUNIS     12\n",
       "6   SAUDIARABIA     11\n",
       "7         EGYPT      9\n",
       "8         SYRIA      7\n",
       "9          IRAN      6\n",
       "10          USA      6\n",
       "11        LYBIA      6\n",
       "12      MOROCCO      4\n",
       "13     VENZUELA      1"
      ]
     },
     "execution_count": 210,
     "metadata": {},
     "output_type": "execute_result"
    }
   ],
   "source": [
    "country"
   ]
  },
  {
   "cell_type": "code",
   "execution_count": 211,
   "metadata": {},
   "outputs": [
    {
     "data": {
      "text/plain": [
       "<BarContainer object of 14 artists>"
      ]
     },
     "execution_count": 211,
     "metadata": {},
     "output_type": "execute_result"
    },
    {
     "data": {
      "image/png": "[encoded data removed]",
      "text/plain": [
       "<Figure size 432x288 with 1 Axes>"
      ]
     },
     "metadata": {
      "needs_background": "light"
     },
     "output_type": "display_data"
    }
   ],
   "source": [
    "plt.barh(country.COUNTRY,country.COUNT)"
   ]
  },
  {
   "cell_type": "code",
   "execution_count": 212,
   "metadata": {},
   "outputs": [],
   "source": [
    "original['PERFORMANCE'] = (original.RAISEDHANDS + original.VISITEDRESOURCES + original.ANNOUNCEMENTSVIEW + original.DISCUSSION)/4"
   ]
  },
  {
   "cell_type": "markdown",
   "metadata": {},
   "source": [
    "fig_size[0] = 15\n",
    "fig_size[1] = 6\n",
    "plt.rcParams[\"figure.figsize\"] = fig_size"
   ]
  },
  {
   "cell_type": "code",
   "execution_count": 213,
   "metadata": {
    "scrolled": true
   },
   "outputs": [
    {
     "name": "stdout",
     "output_type": "stream",
     "text": [
      "Male Average Performance Score: 43.00193318261234\n",
      "Female Average Performance Score: 51.595194216214615\n"
     ]
    },
    {
     "data": {
      "image/png": "[encoded data removed]",
      "text/plain": [
       "<Figure size 1440x360 with 1 Axes>"
      ]
     },
     "metadata": {
      "needs_background": "light"
     },
     "output_type": "display_data"
    }
   ],
   "source": [
    "plt.figure(figsize=(20,5))\n",
    "maleSum = 0\n",
    "femaleSum = 0\n",
    "maleCount = 0\n",
    "femaleCount = 0\n",
    "for index, row in original.iterrows():\n",
    "    if row.GENDER == 'M':\n",
    "        plt.scatter(row.PERFORMANCE,1,color='b')\n",
    "        maleSum+=row.PERFORMANCE\n",
    "        maleCount = maleCount +1\n",
    "    elif row.GENDER == 'F':\n",
    "        plt.scatter(row.PERFORMANCE,1,color='r')\n",
    "        femaleSum+=row.PERFORMANCE\n",
    "#         if(femaleSum==math.nan):\n",
    "#         print(femaleSum)\n",
    "            \n",
    "        \n",
    "        femaleCount = femaleCount+1\n",
    "maleAverage = maleSum/maleCount\n",
    "femaleAverage = femaleSum/femaleCount\n",
    "print('Male Average Performance Score: ' + str(maleAverage))\n",
    "print('Female Average Performance Score: ' + str(femaleAverage))\n",
    "# print(femaleSum)\n",
    "# print(femaleCount)"
   ]
  },
  {
   "cell_type": "code",
   "execution_count": 214,
   "metadata": {},
   "outputs": [],
   "source": [
    "from sklearn.metrics import matthews_corrcoef"
   ]
  },
  {
   "cell_type": "code",
   "execution_count": 215,
   "metadata": {},
   "outputs": [
    {
     "data": {
      "text/plain": [
       "0.46484427018881397"
      ]
     },
     "execution_count": 215,
     "metadata": {},
     "output_type": "execute_result"
    }
   ],
   "source": [
    "matthews_corrcoef(original.STUDENTABSENCEDAYS, y_pred) "
   ]
  },
  {
   "cell_type": "code",
   "execution_count": 216,
   "metadata": {},
   "outputs": [],
   "source": [
    "df = original"
   ]
  },
  {
   "cell_type": "code",
   "execution_count": 217,
   "metadata": {},
   "outputs": [
    {
     "data": {
      "text/html": [
       "<div>\n",
       "<style scoped>\n",
       "    .dataframe tbody tr th:only-of-type {\n",
       "        vertical-align: middle;\n",
       "    }\n",
       "\n",
       "    .dataframe tbody tr th {\n",
       "        vertical-align: top;\n",
       "    }\n",
       "\n",
       "    .dataframe thead th {\n",
       "        text-align: right;\n",
       "    }\n",
       "</style>\n",
       "<table border=\"1\" class=\"dataframe\">\n",
       "  <thead>\n",
       "    <tr style=\"text-align: right;\">\n",
       "      <th></th>\n",
       "      <th>GENDER</th>\n",
       "      <th>NATIONALITY</th>\n",
       "      <th>PLACEOFBIRTH</th>\n",
       "      <th>STAGEID</th>\n",
       "      <th>GRADEID</th>\n",
       "      <th>SECTIONID</th>\n",
       "      <th>TOPIC</th>\n",
       "      <th>SEMESTER</th>\n",
       "      <th>RELATION</th>\n",
       "      <th>RAISEDHANDS</th>\n",
       "      <th>VISITEDRESOURCES</th>\n",
       "      <th>ANNOUNCEMENTSVIEW</th>\n",
       "      <th>DISCUSSION</th>\n",
       "      <th>PARENTANSWERINGSURVEY</th>\n",
       "      <th>PARENTSCHOOLSATISFACTION</th>\n",
       "      <th>STUDENTABSENCEDAYS</th>\n",
       "      <th>CLASS</th>\n",
       "      <th>PERFORMANCE</th>\n",
       "    </tr>\n",
       "  </thead>\n",
       "  <tbody>\n",
       "    <tr>\n",
       "      <th>0</th>\n",
       "      <td>M</td>\n",
       "      <td>KW</td>\n",
       "      <td>KUWAIT</td>\n",
       "      <td>LOWERLEVEL</td>\n",
       "      <td>G-04</td>\n",
       "      <td>A</td>\n",
       "      <td>IT</td>\n",
       "      <td>F</td>\n",
       "      <td>FATHER</td>\n",
       "      <td>15.0</td>\n",
       "      <td>16.161616</td>\n",
       "      <td>2.040816</td>\n",
       "      <td>20.202020</td>\n",
       "      <td>YES</td>\n",
       "      <td>GOOD</td>\n",
       "      <td>UNDER-7</td>\n",
       "      <td>M</td>\n",
       "      <td>13.351113</td>\n",
       "    </tr>\n",
       "    <tr>\n",
       "      <th>1</th>\n",
       "      <td>M</td>\n",
       "      <td>KW</td>\n",
       "      <td>KUWAIT</td>\n",
       "      <td>LOWERLEVEL</td>\n",
       "      <td>G-04</td>\n",
       "      <td>A</td>\n",
       "      <td>IT</td>\n",
       "      <td>F</td>\n",
       "      <td>FATHER</td>\n",
       "      <td>20.0</td>\n",
       "      <td>20.202020</td>\n",
       "      <td>3.061224</td>\n",
       "      <td>25.252525</td>\n",
       "      <td>YES</td>\n",
       "      <td>GOOD</td>\n",
       "      <td>UNDER-7</td>\n",
       "      <td>M</td>\n",
       "      <td>17.128942</td>\n",
       "    </tr>\n",
       "    <tr>\n",
       "      <th>2</th>\n",
       "      <td>M</td>\n",
       "      <td>KW</td>\n",
       "      <td>KUWAIT</td>\n",
       "      <td>LOWERLEVEL</td>\n",
       "      <td>G-04</td>\n",
       "      <td>A</td>\n",
       "      <td>IT</td>\n",
       "      <td>F</td>\n",
       "      <td>FATHER</td>\n",
       "      <td>10.0</td>\n",
       "      <td>7.070707</td>\n",
       "      <td>0.000000</td>\n",
       "      <td>30.303030</td>\n",
       "      <td>NO</td>\n",
       "      <td>BAD</td>\n",
       "      <td>ABOVE-7</td>\n",
       "      <td>L</td>\n",
       "      <td>11.843434</td>\n",
       "    </tr>\n",
       "    <tr>\n",
       "      <th>3</th>\n",
       "      <td>M</td>\n",
       "      <td>KW</td>\n",
       "      <td>KUWAIT</td>\n",
       "      <td>LOWERLEVEL</td>\n",
       "      <td>G-04</td>\n",
       "      <td>A</td>\n",
       "      <td>IT</td>\n",
       "      <td>F</td>\n",
       "      <td>FATHER</td>\n",
       "      <td>30.0</td>\n",
       "      <td>25.252525</td>\n",
       "      <td>5.102041</td>\n",
       "      <td>35.353535</td>\n",
       "      <td>NO</td>\n",
       "      <td>BAD</td>\n",
       "      <td>ABOVE-7</td>\n",
       "      <td>L</td>\n",
       "      <td>23.927025</td>\n",
       "    </tr>\n",
       "    <tr>\n",
       "      <th>4</th>\n",
       "      <td>M</td>\n",
       "      <td>KW</td>\n",
       "      <td>KUWAIT</td>\n",
       "      <td>LOWERLEVEL</td>\n",
       "      <td>G-04</td>\n",
       "      <td>A</td>\n",
       "      <td>IT</td>\n",
       "      <td>F</td>\n",
       "      <td>FATHER</td>\n",
       "      <td>40.0</td>\n",
       "      <td>50.505051</td>\n",
       "      <td>12.244898</td>\n",
       "      <td>50.505051</td>\n",
       "      <td>NO</td>\n",
       "      <td>BAD</td>\n",
       "      <td>ABOVE-7</td>\n",
       "      <td>M</td>\n",
       "      <td>38.313750</td>\n",
       "    </tr>\n",
       "    <tr>\n",
       "      <th>5</th>\n",
       "      <td>F</td>\n",
       "      <td>KW</td>\n",
       "      <td>KUWAIT</td>\n",
       "      <td>LOWERLEVEL</td>\n",
       "      <td>G-04</td>\n",
       "      <td>A</td>\n",
       "      <td>IT</td>\n",
       "      <td>F</td>\n",
       "      <td>FATHER</td>\n",
       "      <td>42.0</td>\n",
       "      <td>30.303030</td>\n",
       "      <td>13.265306</td>\n",
       "      <td>70.707071</td>\n",
       "      <td>YES</td>\n",
       "      <td>BAD</td>\n",
       "      <td>ABOVE-7</td>\n",
       "      <td>M</td>\n",
       "      <td>39.068852</td>\n",
       "    </tr>\n",
       "    <tr>\n",
       "      <th>6</th>\n",
       "      <td>M</td>\n",
       "      <td>KW</td>\n",
       "      <td>KUWAIT</td>\n",
       "      <td>MIDDLESCHOOL</td>\n",
       "      <td>G-07</td>\n",
       "      <td>A</td>\n",
       "      <td>MATH</td>\n",
       "      <td>F</td>\n",
       "      <td>FATHER</td>\n",
       "      <td>35.0</td>\n",
       "      <td>12.121212</td>\n",
       "      <td>0.000000</td>\n",
       "      <td>17.171717</td>\n",
       "      <td>NO</td>\n",
       "      <td>BAD</td>\n",
       "      <td>ABOVE-7</td>\n",
       "      <td>L</td>\n",
       "      <td>16.073232</td>\n",
       "    </tr>\n",
       "    <tr>\n",
       "      <th>7</th>\n",
       "      <td>M</td>\n",
       "      <td>KW</td>\n",
       "      <td>KUWAIT</td>\n",
       "      <td>MIDDLESCHOOL</td>\n",
       "      <td>G-07</td>\n",
       "      <td>A</td>\n",
       "      <td>MATH</td>\n",
       "      <td>F</td>\n",
       "      <td>FATHER</td>\n",
       "      <td>50.0</td>\n",
       "      <td>10.101010</td>\n",
       "      <td>15.306122</td>\n",
       "      <td>22.222222</td>\n",
       "      <td>YES</td>\n",
       "      <td>GOOD</td>\n",
       "      <td>UNDER-7</td>\n",
       "      <td>M</td>\n",
       "      <td>24.407339</td>\n",
       "    </tr>\n",
       "    <tr>\n",
       "      <th>8</th>\n",
       "      <td>F</td>\n",
       "      <td>KW</td>\n",
       "      <td>KUWAIT</td>\n",
       "      <td>MIDDLESCHOOL</td>\n",
       "      <td>G-07</td>\n",
       "      <td>A</td>\n",
       "      <td>MATH</td>\n",
       "      <td>F</td>\n",
       "      <td>FATHER</td>\n",
       "      <td>12.0</td>\n",
       "      <td>21.212121</td>\n",
       "      <td>16.326531</td>\n",
       "      <td>50.505051</td>\n",
       "      <td>YES</td>\n",
       "      <td>GOOD</td>\n",
       "      <td>UNDER-7</td>\n",
       "      <td>M</td>\n",
       "      <td>25.010926</td>\n",
       "    </tr>\n",
       "    <tr>\n",
       "      <th>9</th>\n",
       "      <td>F</td>\n",
       "      <td>KW</td>\n",
       "      <td>KUWAIT</td>\n",
       "      <td>MIDDLESCHOOL</td>\n",
       "      <td>G-07</td>\n",
       "      <td>B</td>\n",
       "      <td>IT</td>\n",
       "      <td>F</td>\n",
       "      <td>FATHER</td>\n",
       "      <td>70.0</td>\n",
       "      <td>80.808081</td>\n",
       "      <td>25.510204</td>\n",
       "      <td>70.707071</td>\n",
       "      <td>YES</td>\n",
       "      <td>GOOD</td>\n",
       "      <td>UNDER-7</td>\n",
       "      <td>M</td>\n",
       "      <td>61.756339</td>\n",
       "    </tr>\n",
       "    <tr>\n",
       "      <th>10</th>\n",
       "      <td>M</td>\n",
       "      <td>KW</td>\n",
       "      <td>KUWAIT</td>\n",
       "      <td>MIDDLESCHOOL</td>\n",
       "      <td>G-07</td>\n",
       "      <td>A</td>\n",
       "      <td>MATH</td>\n",
       "      <td>F</td>\n",
       "      <td>FATHER</td>\n",
       "      <td>50.0</td>\n",
       "      <td>88.888889</td>\n",
       "      <td>30.612245</td>\n",
       "      <td>80.808081</td>\n",
       "      <td>YES</td>\n",
       "      <td>GOOD</td>\n",
       "      <td>UNDER-7</td>\n",
       "      <td>H</td>\n",
       "      <td>62.577304</td>\n",
       "    </tr>\n",
       "    <tr>\n",
       "      <th>11</th>\n",
       "      <td>M</td>\n",
       "      <td>KW</td>\n",
       "      <td>KUWAIT</td>\n",
       "      <td>MIDDLESCHOOL</td>\n",
       "      <td>G-07</td>\n",
       "      <td>B</td>\n",
       "      <td>MATH</td>\n",
       "      <td>F</td>\n",
       "      <td>FATHER</td>\n",
       "      <td>19.0</td>\n",
       "      <td>6.060606</td>\n",
       "      <td>19.387755</td>\n",
       "      <td>12.121212</td>\n",
       "      <td>YES</td>\n",
       "      <td>GOOD</td>\n",
       "      <td>UNDER-7</td>\n",
       "      <td>M</td>\n",
       "      <td>14.142393</td>\n",
       "    </tr>\n",
       "    <tr>\n",
       "      <th>12</th>\n",
       "      <td>M</td>\n",
       "      <td>KW</td>\n",
       "      <td>KUWAIT</td>\n",
       "      <td>LOWERLEVEL</td>\n",
       "      <td>G-04</td>\n",
       "      <td>A</td>\n",
       "      <td>IT</td>\n",
       "      <td>F</td>\n",
       "      <td>FATHER</td>\n",
       "      <td>5.0</td>\n",
       "      <td>1.010101</td>\n",
       "      <td>0.000000</td>\n",
       "      <td>11.111111</td>\n",
       "      <td>NO</td>\n",
       "      <td>BAD</td>\n",
       "      <td>ABOVE-7</td>\n",
       "      <td>L</td>\n",
       "      <td>4.280303</td>\n",
       "    </tr>\n",
       "    <tr>\n",
       "      <th>13</th>\n",
       "      <td>M</td>\n",
       "      <td>LEBANON</td>\n",
       "      <td>LEBANON</td>\n",
       "      <td>MIDDLESCHOOL</td>\n",
       "      <td>G-08</td>\n",
       "      <td>A</td>\n",
       "      <td>MATH</td>\n",
       "      <td>F</td>\n",
       "      <td>FATHER</td>\n",
       "      <td>20.0</td>\n",
       "      <td>14.141414</td>\n",
       "      <td>12.244898</td>\n",
       "      <td>19.191919</td>\n",
       "      <td>NO</td>\n",
       "      <td>BAD</td>\n",
       "      <td>ABOVE-7</td>\n",
       "      <td>L</td>\n",
       "      <td>16.394558</td>\n",
       "    </tr>\n",
       "    <tr>\n",
       "      <th>14</th>\n",
       "      <td>F</td>\n",
       "      <td>KW</td>\n",
       "      <td>KUWAIT</td>\n",
       "      <td>MIDDLESCHOOL</td>\n",
       "      <td>G-08</td>\n",
       "      <td>A</td>\n",
       "      <td>MATH</td>\n",
       "      <td>F</td>\n",
       "      <td>MUM</td>\n",
       "      <td>62.0</td>\n",
       "      <td>70.707071</td>\n",
       "      <td>44.897959</td>\n",
       "      <td>60.606061</td>\n",
       "      <td>NO</td>\n",
       "      <td>BAD</td>\n",
       "      <td>ABOVE-7</td>\n",
       "      <td>H</td>\n",
       "      <td>59.552773</td>\n",
       "    </tr>\n",
       "    <tr>\n",
       "      <th>15</th>\n",
       "      <td>F</td>\n",
       "      <td>KW</td>\n",
       "      <td>KUWAIT</td>\n",
       "      <td>MIDDLESCHOOL</td>\n",
       "      <td>G-06</td>\n",
       "      <td>A</td>\n",
       "      <td>IT</td>\n",
       "      <td>F</td>\n",
       "      <td>FATHER</td>\n",
       "      <td>30.0</td>\n",
       "      <td>40.404040</td>\n",
       "      <td>22.448980</td>\n",
       "      <td>66.666667</td>\n",
       "      <td>YES</td>\n",
       "      <td>GOOD</td>\n",
       "      <td>UNDER-7</td>\n",
       "      <td>M</td>\n",
       "      <td>39.879922</td>\n",
       "    </tr>\n",
       "    <tr>\n",
       "      <th>16</th>\n",
       "      <td>M</td>\n",
       "      <td>KW</td>\n",
       "      <td>KUWAIT</td>\n",
       "      <td>MIDDLESCHOOL</td>\n",
       "      <td>G-07</td>\n",
       "      <td>B</td>\n",
       "      <td>IT</td>\n",
       "      <td>F</td>\n",
       "      <td>FATHER</td>\n",
       "      <td>36.0</td>\n",
       "      <td>30.303030</td>\n",
       "      <td>20.408163</td>\n",
       "      <td>80.808081</td>\n",
       "      <td>NO</td>\n",
       "      <td>BAD</td>\n",
       "      <td>ABOVE-7</td>\n",
       "      <td>M</td>\n",
       "      <td>41.879819</td>\n",
       "    </tr>\n",
       "    <tr>\n",
       "      <th>17</th>\n",
       "      <td>M</td>\n",
       "      <td>KW</td>\n",
       "      <td>KUWAIT</td>\n",
       "      <td>MIDDLESCHOOL</td>\n",
       "      <td>G-07</td>\n",
       "      <td>A</td>\n",
       "      <td>MATH</td>\n",
       "      <td>F</td>\n",
       "      <td>FATHER</td>\n",
       "      <td>55.0</td>\n",
       "      <td>13.131313</td>\n",
       "      <td>35.714286</td>\n",
       "      <td>90.909091</td>\n",
       "      <td>NO</td>\n",
       "      <td>BAD</td>\n",
       "      <td>ABOVE-7</td>\n",
       "      <td>M</td>\n",
       "      <td>48.688672</td>\n",
       "    </tr>\n",
       "    <tr>\n",
       "      <th>18</th>\n",
       "      <td>F</td>\n",
       "      <td>KW</td>\n",
       "      <td>KUWAIT</td>\n",
       "      <td>MIDDLESCHOOL</td>\n",
       "      <td>G-07</td>\n",
       "      <td>A</td>\n",
       "      <td>IT</td>\n",
       "      <td>F</td>\n",
       "      <td>MUM</td>\n",
       "      <td>69.0</td>\n",
       "      <td>15.151515</td>\n",
       "      <td>36.734694</td>\n",
       "      <td>96.969697</td>\n",
       "      <td>YES</td>\n",
       "      <td>GOOD</td>\n",
       "      <td>UNDER-7</td>\n",
       "      <td>M</td>\n",
       "      <td>54.463976</td>\n",
       "    </tr>\n",
       "    <tr>\n",
       "      <th>19</th>\n",
       "      <td>M</td>\n",
       "      <td>KW</td>\n",
       "      <td>KUWAIT</td>\n",
       "      <td>MIDDLESCHOOL</td>\n",
       "      <td>G-07</td>\n",
       "      <td>B</td>\n",
       "      <td>IT</td>\n",
       "      <td>F</td>\n",
       "      <td>MUM</td>\n",
       "      <td>70.0</td>\n",
       "      <td>50.505051</td>\n",
       "      <td>40.816327</td>\n",
       "      <td>100.000000</td>\n",
       "      <td>YES</td>\n",
       "      <td>GOOD</td>\n",
       "      <td>UNDER-7</td>\n",
       "      <td>H</td>\n",
       "      <td>65.330344</td>\n",
       "    </tr>\n",
       "  </tbody>\n",
       "</table>\n",
       "</div>"
      ],
      "text/plain": [
       "   GENDER NATIONALITY PLACEOFBIRTH       STAGEID GRADEID SECTIONID TOPIC  \\\n",
       "0       M          KW       KUWAIT    LOWERLEVEL    G-04         A    IT   \n",
       "1       M          KW       KUWAIT    LOWERLEVEL    G-04         A    IT   \n",
       "2       M          KW       KUWAIT    LOWERLEVEL    G-04         A    IT   \n",
       "3       M          KW       KUWAIT    LOWERLEVEL    G-04         A    IT   \n",
       "4       M          KW       KUWAIT    LOWERLEVEL    G-04         A    IT   \n",
       "5       F          KW       KUWAIT    LOWERLEVEL    G-04         A    IT   \n",
       "6       M          KW       KUWAIT  MIDDLESCHOOL    G-07         A  MATH   \n",
       "7       M          KW       KUWAIT  MIDDLESCHOOL    G-07         A  MATH   \n",
       "8       F          KW       KUWAIT  MIDDLESCHOOL    G-07         A  MATH   \n",
       "9       F          KW       KUWAIT  MIDDLESCHOOL    G-07         B    IT   \n",
       "10      M          KW       KUWAIT  MIDDLESCHOOL    G-07         A  MATH   \n",
       "11      M          KW       KUWAIT  MIDDLESCHOOL    G-07         B  MATH   \n",
       "12      M          KW       KUWAIT    LOWERLEVEL    G-04         A    IT   \n",
       "13      M     LEBANON      LEBANON  MIDDLESCHOOL    G-08         A  MATH   \n",
       "14      F          KW       KUWAIT  MIDDLESCHOOL    G-08         A  MATH   \n",
       "15      F          KW       KUWAIT  MIDDLESCHOOL    G-06         A    IT   \n",
       "16      M          KW       KUWAIT  MIDDLESCHOOL    G-07         B    IT   \n",
       "17      M          KW       KUWAIT  MIDDLESCHOOL    G-07         A  MATH   \n",
       "18      F          KW       KUWAIT  MIDDLESCHOOL    G-07         A    IT   \n",
       "19      M          KW       KUWAIT  MIDDLESCHOOL    G-07         B    IT   \n",
       "\n",
       "   SEMESTER RELATION  RAISEDHANDS  VISITEDRESOURCES  ANNOUNCEMENTSVIEW  \\\n",
       "0         F   FATHER         15.0         16.161616           2.040816   \n",
       "1         F   FATHER         20.0         20.202020           3.061224   \n",
       "2         F   FATHER         10.0          7.070707           0.000000   \n",
       "3         F   FATHER         30.0         25.252525           5.102041   \n",
       "4         F   FATHER         40.0         50.505051          12.244898   \n",
       "5         F   FATHER         42.0         30.303030          13.265306   \n",
       "6         F   FATHER         35.0         12.121212           0.000000   \n",
       "7         F   FATHER         50.0         10.101010          15.306122   \n",
       "8         F   FATHER         12.0         21.212121          16.326531   \n",
       "9         F   FATHER         70.0         80.808081          25.510204   \n",
       "10        F   FATHER         50.0         88.888889          30.612245   \n",
       "11        F   FATHER         19.0          6.060606          19.387755   \n",
       "12        F   FATHER          5.0          1.010101           0.000000   \n",
       "13        F   FATHER         20.0         14.141414          12.244898   \n",
       "14        F      MUM         62.0         70.707071          44.897959   \n",
       "15        F   FATHER         30.0         40.404040          22.448980   \n",
       "16        F   FATHER         36.0         30.303030          20.408163   \n",
       "17        F   FATHER         55.0         13.131313          35.714286   \n",
       "18        F      MUM         69.0         15.151515          36.734694   \n",
       "19        F      MUM         70.0         50.505051          40.816327   \n",
       "\n",
       "    DISCUSSION PARENTANSWERINGSURVEY PARENTSCHOOLSATISFACTION  \\\n",
       "0    20.202020                   YES                     GOOD   \n",
       "1    25.252525                   YES                     GOOD   \n",
       "2    30.303030                    NO                      BAD   \n",
       "3    35.353535                    NO                      BAD   \n",
       "4    50.505051                    NO                      BAD   \n",
       "5    70.707071                   YES                      BAD   \n",
       "6    17.171717                    NO                      BAD   \n",
       "7    22.222222                   YES                     GOOD   \n",
       "8    50.505051                   YES                     GOOD   \n",
       "9    70.707071                   YES                     GOOD   \n",
       "10   80.808081                   YES                     GOOD   \n",
       "11   12.121212                   YES                     GOOD   \n",
       "12   11.111111                    NO                      BAD   \n",
       "13   19.191919                    NO                      BAD   \n",
       "14   60.606061                    NO                      BAD   \n",
       "15   66.666667                   YES                     GOOD   \n",
       "16   80.808081                    NO                      BAD   \n",
       "17   90.909091                    NO                      BAD   \n",
       "18   96.969697                   YES                     GOOD   \n",
       "19  100.000000                   YES                     GOOD   \n",
       "\n",
       "   STUDENTABSENCEDAYS CLASS  PERFORMANCE  \n",
       "0             UNDER-7     M    13.351113  \n",
       "1             UNDER-7     M    17.128942  \n",
       "2             ABOVE-7     L    11.843434  \n",
       "3             ABOVE-7     L    23.927025  \n",
       "4             ABOVE-7     M    38.313750  \n",
       "5             ABOVE-7     M    39.068852  \n",
       "6             ABOVE-7     L    16.073232  \n",
       "7             UNDER-7     M    24.407339  \n",
       "8             UNDER-7     M    25.010926  \n",
       "9             UNDER-7     M    61.756339  \n",
       "10            UNDER-7     H    62.577304  \n",
       "11            UNDER-7     M    14.142393  \n",
       "12            ABOVE-7     L     4.280303  \n",
       "13            ABOVE-7     L    16.394558  \n",
       "14            ABOVE-7     H    59.552773  \n",
       "15            UNDER-7     M    39.879922  \n",
       "16            ABOVE-7     M    41.879819  \n",
       "17            ABOVE-7     M    48.688672  \n",
       "18            UNDER-7     M    54.463976  \n",
       "19            UNDER-7     H    65.330344  "
      ]
     },
     "execution_count": 217,
     "metadata": {},
     "output_type": "execute_result"
    }
   ],
   "source": [
    "df.head(20)"
   ]
  },
  {
   "cell_type": "code",
   "execution_count": 218,
   "metadata": {},
   "outputs": [],
   "source": [
    "df['STUDENTABSENCEDAYS'] =df['STUDENTABSENCEDAYS'].astype('category').cat.codes"
   ]
  },
  {
   "cell_type": "code",
   "execution_count": 219,
   "metadata": {},
   "outputs": [],
   "source": [
    "df['PARENTSCHOOLSATISFACTION'] =df['PARENTSCHOOLSATISFACTION'].astype('category').cat.codes"
   ]
  },
  {
   "cell_type": "code",
   "execution_count": 220,
   "metadata": {},
   "outputs": [
    {
     "data": {
      "text/plain": [
       "PERFORMANCE           0.484642\n",
       "RAISEDHANDS           0.463882\n",
       "VISITEDRESOURCES      0.499030\n",
       "ANNOUNCEMENTSVIEW     0.312134\n",
       "DISCUSSION            0.218778\n",
       "STUDENTABSENCEDAYS    1.000000\n",
       "Name: STUDENTABSENCEDAYS, dtype: float64"
      ]
     },
     "execution_count": 220,
     "metadata": {},
     "output_type": "execute_result"
    }
   ],
   "source": [
    "df[['PERFORMANCE','RAISEDHANDS','VISITEDRESOURCES','ANNOUNCEMENTSVIEW','DISCUSSION','STUDENTABSENCEDAYS']].corr()['STUDENTABSENCEDAYS'][:]"
   ]
  },
  {
   "cell_type": "code",
   "execution_count": 221,
   "metadata": {},
   "outputs": [
    {
     "data": {
      "text/plain": [
       "PARENTSCHOOLSATISFACTION    1.000000\n",
       "STUDENTABSENCEDAYS          0.228385\n",
       "Name: PARENTSCHOOLSATISFACTION, dtype: float64"
      ]
     },
     "execution_count": 221,
     "metadata": {},
     "output_type": "execute_result"
    }
   ],
   "source": [
    "df[['PARENTSCHOOLSATISFACTION','STUDENTABSENCEDAYS']].corr()['PARENTSCHOOLSATISFACTION'][:]"
   ]
  },
  {
   "cell_type": "code",
   "execution_count": 222,
   "metadata": {},
   "outputs": [
    {
     "data": {
      "text/plain": [
       "177"
      ]
     },
     "execution_count": 222,
     "metadata": {},
     "output_type": "execute_result"
    }
   ],
   "source": [
    "(df.PARENTSCHOOLSATISFACTION^df.STUDENTABSENCEDAYS).sum()"
   ]
  },
  {
   "cell_type": "code",
   "execution_count": 223,
   "metadata": {},
   "outputs": [
    {
     "data": {
      "text/plain": [
       "RAISEDHANDS                 0.860463\n",
       "VISITEDRESOURCES            0.826279\n",
       "ANNOUNCEMENTSVIEW           0.835351\n",
       "DISCUSSION                  0.615420\n",
       "PARENTSCHOOLSATISFACTION    0.331182\n",
       "STUDENTABSENCEDAYS          0.484642\n",
       "PERFORMANCE                 1.000000\n",
       "Name: PERFORMANCE, dtype: float64"
      ]
     },
     "execution_count": 223,
     "metadata": {},
     "output_type": "execute_result"
    }
   ],
   "source": [
    "df[df.columns[1:]].corr()['PERFORMANCE'][:]"
   ]
  },
  {
   "cell_type": "code",
   "execution_count": null,
   "metadata": {},
   "outputs": [],
   "source": []
  }
 ],
 "metadata": {
  "kernelspec": {
   "display_name": "Python 3",
   "language": "python",
   "name": "python3"
  },
  "language_info": {
   "codemirror_mode": {
    "name": "ipython",
    "version": 3
   },
   "file_extension": ".py",
   "mimetype": "text/x-python",
   "name": "python",
   "nbconvert_exporter": "python",
   "pygments_lexer": "ipython3",
   "version": "3.7.0"
  }
 },
 "nbformat": 4,
 "nbformat_minor": 2
}
